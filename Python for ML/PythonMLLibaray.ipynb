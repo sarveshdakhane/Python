{
 "cells": [
  {
   "cell_type": "code",
   "execution_count": 1,
   "metadata": {},
   "outputs": [
    {
     "name": "stdout",
     "output_type": "stream",
     "text": [
      "Hello Sarvesh , Dakhane\n"
     ]
    }
   ],
   "source": [
    "print(\"Hello {} , {}\".format(\"Sarvesh\", \"Dakhane\"))"
   ]
  },
  {
   "cell_type": "code",
   "execution_count": 12,
   "metadata": {},
   "outputs": [
    {
     "name": "stdout",
     "output_type": "stream",
     "text": [
      "0\n"
     ]
    }
   ],
   "source": [
    "print([i  for i in range(5)][0\n",
    "\n",
    "\n",
    "])"
   ]
  },
  {
   "cell_type": "code",
   "execution_count": 16,
   "metadata": {},
   "outputs": [
    {
     "name": "stdout",
     "output_type": "stream",
     "text": [
      "True\n"
     ]
    }
   ],
   "source": [
    "import numpy as np   \n",
    "print(np is not None)\n",
    "    "
   ]
  },
  {
   "cell_type": "code",
   "execution_count": 18,
   "metadata": {},
   "outputs": [
    {
     "name": "stdout",
     "output_type": "stream",
     "text": [
      "a1: [1 2 3]\n",
      "int32\n"
     ]
    }
   ],
   "source": [
    "a1 = np.array([1,2,3])\n",
    "print(\"a1: {}\".format(a1))\n",
    "print(a1.d)"
   ]
  },
  {
   "cell_type": "code",
   "execution_count": 19,
   "metadata": {},
   "outputs": [
    {
     "name": "stdout",
     "output_type": "stream",
     "text": [
      "\n",
      "a2:\n",
      "[1. 2. 3.]\n",
      "float64\n"
     ]
    }
   ],
   "source": [
    "a2 = np.array([1., 2., 3.])               # creating an ndarray form data type float64\n",
    "print(\"\\na2:\")\n",
    "print(a2)\n",
    "print(a2.dtype)"
   ]
  },
  {
   "cell_type": "code",
   "execution_count": 20,
   "metadata": {},
   "outputs": [
    {
     "name": "stdout",
     "output_type": "stream",
     "text": [
      "\n",
      "a3:\n",
      "[[0. 0. 0.]\n",
      " [0. 0. 0.]]\n",
      "float64\n"
     ]
    }
   ],
   "source": [
    "a3 = np.zeros((2, 3))                     # creating a 2x3 matrix of zeros\n",
    "print(\"\\na3:\")\n",
    "print(a3)\n",
    "print(a3.dtype)"
   ]
  },
  {
   "cell_type": "code",
   "execution_count": 36,
   "metadata": {},
   "outputs": [
    {
     "name": "stdout",
     "output_type": "stream",
     "text": [
      "\n",
      "a4:\n",
      "[[[1 1 1]\n",
      "  [1 1 1]\n",
      "  [1 1 1]]\n",
      "\n",
      " [[1 1 1]\n",
      "  [1 1 1]\n",
      "  [1 1 1]]\n",
      "\n",
      " [[1 1 1]\n",
      "  [1 1 1]\n",
      "  [1 1 1]]]\n",
      "int16\n",
      "(2, 3)\n",
      "(3, 3, 3)\n"
     ]
    }
   ],
   "source": [
    "a4 = np.ones((3,3,3), dtype=np.int16)   # creating a 3x4x5 tensor of 16-bit integer ones\n",
    "print(\"\\na4:\")\n",
    "print(a4)\n",
    "print(a4.dtype)\n",
    "print(a3.shape)\n",
    "print(a4.shape)"
   ]
  },
  {
   "cell_type": "code",
   "execution_count": 28,
   "metadata": {},
   "outputs": [
    {
     "name": "stdout",
     "output_type": "stream",
     "text": [
      "[0 1 2 3 4 5 6 7 8 9]\n"
     ]
    }
   ],
   "source": [
    "print(np.arange(0,10,1))"
   ]
  },
  {
   "cell_type": "code",
   "execution_count": 32,
   "metadata": {},
   "outputs": [
    {
     "name": "stdout",
     "output_type": "stream",
     "text": [
      "[0.         0.08695652 0.17391304 0.26086957 0.34782609 0.43478261\n",
      " 0.52173913 0.60869565 0.69565217 0.7826087  0.86956522 0.95652174\n",
      " 1.04347826 1.13043478 1.2173913  1.30434783 1.39130435 1.47826087\n",
      " 1.56521739 1.65217391 1.73913043 1.82608696 1.91304348 2.        ]\n"
     ]
    }
   ],
   "source": [
    "print(np.linspace(0, 2, 24))"
   ]
  },
  {
   "cell_type": "code",
   "execution_count": 37,
   "metadata": {},
   "outputs": [
    {
     "name": "stdout",
     "output_type": "stream",
     "text": [
      "a:\n",
      "[[1. 1. 1. 1.]\n",
      " [1. 1. 1. 1.]\n",
      " [1. 1. 1. 1.]]\n",
      "\n",
      "b:\n",
      "[[ 1.  2.  3.  4.]\n",
      " [ 5.  6.  7.  8.]\n",
      " [ 9. 10. 11. 12.]]\n"
     ]
    }
   ],
   "source": [
    "a = np.ones((3, 4))\n",
    "b = np.array([[1., 2., 3., 4.],\n",
    "              [5., 6., 7., 8.],\n",
    "              [9., 10., 11., 12.]])\n",
    "print(\"a:\")\n",
    "print(a)\n",
    "print(\"\\nb:\")\n",
    "print(b)"
   ]
  },
  {
   "cell_type": "code",
   "execution_count": 38,
   "metadata": {},
   "outputs": [
    {
     "name": "stdout",
     "output_type": "stream",
     "text": [
      "\n",
      "a + b:\n",
      "[[ 2.  3.  4.  5.]\n",
      " [ 6.  7.  8.  9.]\n",
      " [10. 11. 12. 13.]]\n"
     ]
    }
   ],
   "source": [
    "c = a + b\n",
    "print(\"\\na + b:\")\n",
    "print(c)"
   ]
  },
  {
   "cell_type": "code",
   "execution_count": 39,
   "metadata": {},
   "outputs": [
    {
     "name": "stdout",
     "output_type": "stream",
     "text": [
      "\n",
      "a ** b:\n",
      "[[1. 1. 1. 1.]\n",
      " [1. 1. 1. 1.]\n",
      " [1. 1. 1. 1.]]\n"
     ]
    }
   ],
   "source": [
    "c = a ** b\n",
    "print(\"\\na ** b:\")\n",
    "print(c)"
   ]
  },
  {
   "cell_type": "code",
   "execution_count": 40,
   "metadata": {},
   "outputs": [
    {
     "name": "stdout",
     "output_type": "stream",
     "text": [
      "2053870789616\n",
      "2053870790768\n",
      "[[2. 2. 2. 2.]\n",
      " [2. 2. 2. 2.]\n",
      " [2. 2. 2. 2.]]\n"
     ]
    }
   ],
   "source": [
    "a = np.ones((3, 4))\n",
    "print(id(a))\n",
    "\n",
    "a = a + 1                 # a refers to newly created object containing the result\n",
    "print(id(a))\n",
    "print(a)"
   ]
  },
  {
   "cell_type": "code",
   "execution_count": 51,
   "metadata": {},
   "outputs": [
    {
     "name": "stdout",
     "output_type": "stream",
     "text": [
      "(1-2.4492935982947064e-16j)\n"
     ]
    }
   ],
   "source": [
    "print(np.exp(np.pi * 2.j))"
   ]
  },
  {
   "cell_type": "code",
   "execution_count": 57,
   "metadata": {},
   "outputs": [
    {
     "name": "stdout",
     "output_type": "stream",
     "text": [
      "[0.         3.14159265 6.28318531]\n",
      "[ 0.0000000e+00  1.2246468e-16 -2.4492936e-16]\n",
      "[ 1. -1.  1.]\n"
     ]
    }
   ],
   "source": [
    "a = np.linspace(0, 2*np.pi, 3)\n",
    "print(a)\n",
    "print(np.sin(a))\n",
    "print(np.cos(a))"
   ]
  },
  {
   "cell_type": "code",
   "execution_count": 60,
   "metadata": {},
   "outputs": [
    {
     "name": "stdout",
     "output_type": "stream",
     "text": [
      "A:\n",
      "[[1 2 3]\n",
      " [4 5 6]]\n",
      "\n",
      "B:\n",
      "[[ 0  6]\n",
      " [ 2  8]\n",
      " [ 4 10]]\n",
      "\n",
      "v:\n",
      "[[0]\n",
      " [1]\n",
      " [2]]\n"
     ]
    }
   ],
   "source": [
    "A = np.array([[1, 2, 3],\n",
    "             [4, 5, 6]])\n",
    "print(\"A:\")\n",
    "print(A)\n",
    "\n",
    "B = np.array([[0, 6],\n",
    "              [2, 8],\n",
    "              [4, 10]])\n",
    "print(\"\\nB:\")\n",
    "print(B)\n",
    "\n",
    "print(\"\\nv:\")\n",
    "v = np.array([[0], [1], [2]])\n",
    "print(v)\n"
   ]
  },
  {
   "cell_type": "code",
   "execution_count": 61,
   "metadata": {},
   "outputs": [
    {
     "name": "stdout",
     "output_type": "stream",
     "text": [
      "\n",
      "A @ B:\n",
      "[[ 16  52]\n",
      " [ 34 124]]\n",
      "\n",
      "Shape of A @ B: \n",
      "(2, 2)\n",
      "\n",
      "A @ v:\n",
      "[[ 8]\n",
      " [17]]\n",
      "\n",
      "Shape of A @ v: \n",
      "(2, 1)\n"
     ]
    }
   ],
   "source": [
    "C = A @ B                        # matrix-matrix multiplication\n",
    "print(\"\\nA @ B:\")\n",
    "print(C)\n",
    "print(\"\\nShape of A @ B: \")\n",
    "print(C.shape)\n",
    "\n",
    "c = A @ v                        # matrix-vector multiplication\n",
    "print(\"\\nA @ v:\")\n",
    "print(c)\n",
    "print(\"\\nShape of A @ v: \")\n",
    "print(c.shape)"
   ]
  },
  {
   "cell_type": "code",
   "execution_count": 66,
   "metadata": {},
   "outputs": [
    {
     "name": "stdout",
     "output_type": "stream",
     "text": [
      "a:\n",
      "[[ 2.  1.  3.  1.]\n",
      " [ 5.  6.  7.  8.]\n",
      " [ 9. 10.  4. 12.]]\n",
      "\n",
      "Minimum of a:\n",
      "1.0\n",
      "\n",
      "Minimum of a along the second axis:\n",
      "[2. 1. 3. 1.]\n",
      "\n",
      "Sum of a:\n",
      "68.0\n",
      "\n",
      "Sum of a along the first axis:\n",
      "[16. 17. 14. 21.]\n"
     ]
    }
   ],
   "source": [
    "a = np.array([[2., 1., 3., 1.],\n",
    "              [5., 6., 7., 8.],\n",
    "              [9., 10., 4., 12.]])\n",
    "\n",
    "print(\"a:\")\n",
    "print(a)\n",
    "\n",
    "print(\"\\nMinimum of a:\")\n",
    "print(a.min())\n",
    "\n",
    "print(\"\\nMinimum of a along the second axis:\")\n",
    "print(a.min(axis=0))\n",
    "\n",
    "print(\"\\nSum of a:\")\n",
    "print(a.sum())\n",
    "\n",
    "print(\"\\nSum of a along the first axis:\")\n",
    "print(a.sum(axis=0))"
   ]
  },
  {
   "cell_type": "code",
   "execution_count": 69,
   "metadata": {},
   "outputs": [
    {
     "name": "stdout",
     "output_type": "stream",
     "text": [
      "[[[0.78352821 0.4611501  0.06322851]\n",
      "  [0.57581286 0.35931892 0.66861581]\n",
      "  [0.61152886 0.22404406 0.38382148]\n",
      "  [0.78591083 0.71220321 0.86885917]\n",
      "  [0.20683471 0.42745047 0.41805744]\n",
      "  [0.7008642  0.37287429 0.3177129 ]\n",
      "  [0.48785275 0.21303574 0.4949278 ]\n",
      "  [0.97853929 0.20168168 0.49577689]]\n",
      "\n",
      " [[0.73739769 0.33178273 0.26485841]\n",
      "  [0.38337091 0.73809605 0.54382358]\n",
      "  [0.04341848 0.86975988 0.57740641]\n",
      "  [0.36680759 0.36308439 0.16580865]\n",
      "  [0.58810554 0.10761197 0.53139768]\n",
      "  [0.06853099 0.99378788 0.63933922]\n",
      "  [0.05631607 0.86471378 0.6401481 ]\n",
      "  [0.45820505 0.88143675 0.0033783 ]]]\n"
     ]
    }
   ],
   "source": [
    "x = np.random.rand(2, 8, 3)\n",
    "print(x)"
   ]
  },
  {
   "cell_type": "code",
   "execution_count": 70,
   "metadata": {},
   "outputs": [
    {
     "name": "stdout",
     "output_type": "stream",
     "text": [
      "a:\n",
      "[[ 1.  2.  3.  4.]\n",
      " [ 5.  6.  7.  8.]\n",
      " [ 9. 10. 11. 12.]]\n",
      "\n",
      "a[1, 2]:\n",
      "7.0\n",
      "\n",
      "a[1:2, 2]\n",
      "[7.]\n",
      "\n",
      "a[0]\n",
      "[1. 2. 3. 4.]\n",
      "\n",
      "a[..., 2]\n",
      "[ 3.  7. 11.]\n"
     ]
    }
   ],
   "source": [
    "a = np.array([[1., 2., 3., 4.],\n",
    "              [5., 6., 7., 8.],\n",
    "              [9., 10., 11., 12.]])\n",
    "\n",
    "print(\"a:\")\n",
    "print(a)\n",
    "\n",
    "print(\"\\na[1, 2]:\")\n",
    "print(a[1, 2])\n",
    "\n",
    "print(\"\\na[1:2, 2]\")\n",
    "print(a[1:2, 2])\n",
    "\n",
    "print(\"\\na[0]\")\n",
    "print(a[0])\n",
    "\n",
    "print(\"\\na[..., 2]\")\n",
    "print(a[..., 2]) "
   ]
  },
  {
   "cell_type": "code",
   "execution_count": 83,
   "metadata": {},
   "outputs": [
    {
     "name": "stdout",
     "output_type": "stream",
     "text": [
      "[0 1 2 3 4 5 6 7 8]\n",
      "(9,)\n"
     ]
    }
   ],
   "source": [
    "a = np.arange(9)\n",
    "print(a)\n",
    "print(a.shape)"
   ]
  },
  {
   "cell_type": "code",
   "execution_count": 84,
   "metadata": {},
   "outputs": [
    {
     "name": "stdout",
     "output_type": "stream",
     "text": [
      "[[0 1 2]\n",
      " [3 4 5]\n",
      " [6 7 8]]\n",
      "(3, 3)\n"
     ]
    }
   ],
   "source": [
    "b = a.reshape(3, 3)\n",
    "print(b)\n",
    "print(b.shape)"
   ]
  },
  {
   "cell_type": "code",
   "execution_count": 85,
   "metadata": {},
   "outputs": [
    {
     "name": "stdout",
     "output_type": "stream",
     "text": [
      "[0 1 2 3 4 5 6 7 8]\n",
      "2053871018704\n",
      "2053871018416\n"
     ]
    }
   ],
   "source": [
    "print(a)\n",
    "print(id(a))\n",
    "print(id(b))"
   ]
  },
  {
   "cell_type": "code",
   "execution_count": 86,
   "metadata": {},
   "outputs": [
    {
     "name": "stdout",
     "output_type": "stream",
     "text": [
      "[42  1  2  3  4  5  6  7  8]\n",
      "[[42  1  2]\n",
      " [ 3  4  5]\n",
      " [ 6  7  8]]\n"
     ]
    }
   ],
   "source": [
    "a[0] = 42\n",
    "print(a)\n",
    "print(b)"
   ]
  },
  {
   "cell_type": "code",
   "execution_count": 91,
   "metadata": {},
   "outputs": [],
   "source": [
    "Cc= b.T"
   ]
  },
  {
   "cell_type": "code",
   "execution_count": 93,
   "metadata": {},
   "outputs": [
    {
     "name": "stdout",
     "output_type": "stream",
     "text": [
      "True\n"
     ]
    }
   ],
   "source": [
    "print(Cc.base is a)"
   ]
  },
  {
   "cell_type": "code",
   "execution_count": 94,
   "metadata": {},
   "outputs": [
    {
     "name": "stdout",
     "output_type": "stream",
     "text": [
      "[[1. 2.]\n",
      " [3. 4.]]\n",
      " * \n",
      "[[ 1. ]\n",
      " [-0.5]]\n",
      " = \n",
      "[[0.]\n",
      " [1.]]\n"
     ]
    }
   ],
   "source": [
    "A = np.array([[1., 2.], [3., 4.]])\n",
    "b = np.array([[0.], [1.]])\n",
    "x = np.linalg.solve(A, b)\n",
    "\n",
    "print(\"{}\\n * \\n{}\\n = \\n{}\".format(A, x, b))"
   ]
  },
  {
   "cell_type": "code",
   "execution_count": 95,
   "metadata": {},
   "outputs": [],
   "source": [
    "import matplotlib.pyplot as plt"
   ]
  },
  {
   "cell_type": "code",
   "execution_count": 96,
   "metadata": {},
   "outputs": [],
   "source": [
    "%matplotlib inline"
   ]
  },
  {
   "cell_type": "code",
   "execution_count": 97,
   "metadata": {},
   "outputs": [
    {
     "data": {
      "text/plain": [
       "Text(0, 0.5, 'y')"
      ]
     },
     "execution_count": 97,
     "metadata": {},
     "output_type": "execute_result"
    },
    {
     "data": {
      "image/png": "[encoded data removed]",
      "text/plain": [
       "<Figure size 432x288 with 1 Axes>"
      ]
     },
     "metadata": {
      "needs_background": "light"
     },
     "output_type": "display_data"
    }
   ],
   "source": [
    "t = np.linspace(0, 2 * np.pi, 100)\n",
    "x = np.cos(t)\n",
    "y = np.sin(t)\n",
    "\n",
    "plt.plot(x, y)\n",
    "plt.axis(\"equal\")                      # applies same scale to x and y axis\n",
    "plt.title(\"Circle\")                    # plot title\n",
    "plt.xlabel(\"x\")                        # label of x axis\n",
    "plt.ylabel(\"y\")                        # label of y axis"
   ]
  },
  {
   "cell_type": "code",
   "execution_count": 104,
   "metadata": {},
   "outputs": [
    {
     "data": {
      "text/plain": [
       "(-1.1144713695023443,\n",
       " 1.4149748271191593,\n",
       " -1.0998615404412626,\n",
       " 1.0998615404412626)"
      ]
     },
     "execution_count": 104,
     "metadata": {},
     "output_type": "execute_result"
    },
    {
     "data": {
      "image/png": "[encoded data removed]",
      "text/plain": [
       "<Figure size 432x288 with 1 Axes>"
      ]
     },
     "metadata": {
      "needs_background": "light"
     },
     "output_type": "display_data"
    }
   ],
   "source": [
    "plt.plot(x, y)\n",
    "plt.plot(x+0.2, y)\n",
    "plt.plot(x+0.3, y)\n",
    "plt.legend([\"Circle 1\", \"Circle 2\",\"Circle 8\"])   # legend\n",
    "plt.axis(\"equal\")"
   ]
  },
  {
   "cell_type": "code",
   "execution_count": 105,
   "metadata": {},
   "outputs": [
    {
     "data": {
      "text/plain": [
       "[<matplotlib.lines.Line2D at 0x1de36c43340>]"
      ]
     },
     "execution_count": 105,
     "metadata": {},
     "output_type": "execute_result"
    },
    {
     "data": {
      "image/png": "[encoded data removed]",
      "text/plain": [
       "<Figure size 432x288 with 2 Axes>"
      ]
     },
     "metadata": {
      "needs_background": "light"
     },
     "output_type": "display_data"
    }
   ],
   "source": [
    "plt.subplot(2, 1, 1)         # creates a grid of height 2, width 1 and sets first subplot as active\n",
    "plt.plot(t, x)\n",
    "\n",
    "plt.subplot(2, 1, 2)         # sets second subplot as active\n",
    "plt.plot(t, y)"
   ]
  },
  {
   "cell_type": "code",
   "execution_count": null,
   "metadata": {},
   "outputs": [],
   "source": []
  }
 ],
 "metadata": {
  "interpreter": {
   "hash": "2f6cabfc0b8d0d8d130824854e0342181f392dbd032d8da5c3288a18ecb6299a"
  },
  "kernelspec": {
   "display_name": "Python 3.8.8 64-bit ('base': conda)",
   "name": "python3"
  },
  "language_info": {
   "codemirror_mode": {
    "name": "ipython",
    "version": 3
   },
   "file_extension": ".py",
   "mimetype": "text/x-python",
   "name": "python",
   "nbconvert_exporter": "python",
   "pygments_lexer": "ipython3",
   "version": "3.8.8"
  },
  "orig_nbformat": 4
 },
 "nbformat": 4,
 "nbformat_minor": 2
}
