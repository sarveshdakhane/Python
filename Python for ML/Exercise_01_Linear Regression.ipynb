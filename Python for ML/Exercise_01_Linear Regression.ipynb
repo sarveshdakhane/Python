{
 "cells": [
  {
   "cell_type": "markdown",
   "metadata": {},
   "source": [
    "# Task 1 : Find the value of Y for each rows\n"
   ]
  },
  {
   "cell_type": "code",
   "execution_count": 80,
   "metadata": {},
   "outputs": [],
   "source": [
    "import numpy as np"
   ]
  },
  {
   "cell_type": "code",
   "execution_count": 81,
   "metadata": {},
   "outputs": [],
   "source": [
    "D = np.array([[182,50,0.],[190,40,0.]])\n",
    "ThitaConstamt=(0.5,-0.4,0.3)"
   ]
  },
  {
   "cell_type": "code",
   "execution_count": 82,
   "metadata": {},
   "outputs": [
    {
     "name": "stdout",
     "output_type": "stream",
     "text": [
      "Y1 = -57.3\n",
      "Y2 = -63.5\n"
     ]
    }
   ],
   "source": [
    "TempY=0\n",
    "for i in range(len(D)):\n",
    "    TempY+=ThitaConstamt[0]\n",
    "    for j in range(len(D[0])-1):\n",
    "        TempY+= ThitaConstamt[j+1] * D[i][j]\n",
    "    D[i][2]=TempY\n",
    "    TempY=0\n",
    "\n",
    "for i in range(len(D)):\n",
    "    print(\"Y{} = {}\".format(i+1,D[i][2]))"
   ]
  }
 ],
 "metadata": {
  "interpreter": {
   "hash": "2f6cabfc0b8d0d8d130824854e0342181f392dbd032d8da5c3288a18ecb6299a"
  },
  "kernelspec": {
   "display_name": "Python 3.8.8 64-bit ('base': conda)",
   "language": "python",
   "name": "python3"
  },
  "language_info": {
   "codemirror_mode": {
    "name": "ipython",
    "version": 3
   },
   "file_extension": ".py",
   "mimetype": "text/x-python",
   "name": "python",
   "nbconvert_exporter": "python",
   "pygments_lexer": "ipython3",
   "version": "3.8.8"
  },
  "orig_nbformat": 4
 },
 "nbformat": 4,
 "nbformat_minor": 2
}
