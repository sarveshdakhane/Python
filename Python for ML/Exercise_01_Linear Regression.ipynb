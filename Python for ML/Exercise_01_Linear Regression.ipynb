{
 "cells": [
  {
   "cell_type": "markdown",
   "metadata": {},
   "source": [
    "# Task 1 : Find the value of Y for each rows (Linear Regression)\n"
   ]
  },
  {
   "cell_type": "code",
   "execution_count": 125,
   "metadata": {},
   "outputs": [],
   "source": [
    "import numpy as np"
   ]
  },
  {
   "cell_type": "code",
   "execution_count": 126,
   "metadata": {},
   "outputs": [],
   "source": [
    "D = np.array([[182,50,0.],[190,40,0.]])\n",
    "ThitaConstamt=(0.5,-0.4,0.3)"
   ]
  },
  {
   "cell_type": "code",
   "execution_count": 127,
   "metadata": {},
   "outputs": [
    {
     "name": "stdout",
     "output_type": "stream",
     "text": [
      "Y1 = -57.3\n",
      "Y2 = -63.5\n"
     ]
    }
   ],
   "source": [
    "TempY=0\n",
    "for i in range(len(D)):\n",
    "    TempY+=ThitaConstamt[0]\n",
    "    for j in range(len(D[0])-1):\n",
    "        TempY+= ThitaConstamt[j+1] * D[i][j]\n",
    "    D[i][2]=TempY\n",
    "    TempY=0\n",
    "\n",
    "for i in range(len(D)):\n",
    "    print(\"Y{} = {}\".format(i+1,D[i][2]))"
   ]
  },
  {
   "cell_type": "markdown",
   "metadata": {},
   "source": [
    "# Task 2 Gradient Descent implemention for iteration "
   ]
  },
  {
   "cell_type": "code",
   "execution_count": 128,
   "metadata": {},
   "outputs": [],
   "source": [
    "import numpy as np"
   ]
  },
  {
   "cell_type": "code",
   "execution_count": 129,
   "metadata": {},
   "outputs": [],
   "source": [
    "# Matrices declaration \n",
    "D=np.array([[1,160,43,65],\n",
    "           [1,167,46,66],\n",
    "           [1,175,48,68]])\n",
    "OperationMatrix= np.array([[67.1,2.01],\n",
    "                            [71.15,5.15],\n",
    "                            [74.35,6.35]])\n",
    "\n",
    "IntialThetaValues = np.array([[0.1],[0.15],[1]])\n",
    "LearningRate=0.01\n",
    "NumberofInteractionNeed=1\n",
    "\n"
   ]
  },
  {
   "cell_type": "code",
   "execution_count": 130,
   "metadata": {},
   "outputs": [
    {
     "name": "stdout",
     "output_type": "stream",
     "text": [
      "Thetas Value Before first iteration\n",
      "[array([0.1]), array([0.15]), array([1.])]\n",
      "Thetas Value After first iteration\n",
      "[array([-0.0351]), array([-22.779]), array([-5.2813])]\n",
      "      𝜀𝑥0 || 𝜀𝑥1 || 𝜀𝑥2 value as like below\n",
      "0 : 2.01 || 321.59999999999997 || 86.42999999999999\n",
      "1 : 5.15 || 860.0500000000001 || 236.9\n",
      "2 : 6.35 || 1111.25 || 304.79999999999995\n"
     ]
    }
   ],
   "source": [
    "for N in range(NumberofInteractionNeed):\n",
    "    SumOfMultiplicationofErrorAndXs=[]\n",
    "    SumOfMultiplicationofErrorAndX=0\n",
    "\n",
    "    for k in range(len(IntialThetaValues)):\n",
    "        for i in range(len(D)):\n",
    "            SumOfMultiplicationofErrorAndX+= OperationMatrix[i][1] * D[i][k]\n",
    "        SumOfMultiplicationofErrorAndXs.append(SumOfMultiplicationofErrorAndX)\n",
    "        SumOfMultiplicationofErrorAndX=0\n",
    "\n",
    "    print(\"Thetas Value Before first iteration\")\n",
    "    print([x for x in IntialThetaValues])\n",
    "    print(\"Thetas Value After first iteration\")\n",
    "    for i in range(len(IntialThetaValues)):\n",
    "        IntialThetaValues[i]=(IntialThetaValues[i] - LearningRate *(SumOfMultiplicationofErrorAndXs[i]))\n",
    "    print([x for x in IntialThetaValues])\n",
    "     \n",
    "\n",
    "print(\"      𝜀𝑥0 || 𝜀𝑥1 || 𝜀𝑥2 valuezs as like below\")\n",
    "\n",
    "for i in range(len(D)):\n",
    "    print(\"{} : {} || {} || {}\".format(i,OperationMatrix[i][1]*D[i][0],OperationMatrix[i][1]*D[i][1],OperationMatrix[i][1]*D[i][2]))\n",
    "\n"
   ]
  }
 ],
 "metadata": {
  "interpreter": {
   "hash": "2f6cabfc0b8d0d8d130824854e0342181f392dbd032d8da5c3288a18ecb6299a"
  },
  "kernelspec": {
   "display_name": "Python 3.8.8 64-bit ('base': conda)",
   "language": "python",
   "name": "python3"
  },
  "language_info": {
   "codemirror_mode": {
    "name": "ipython",
    "version": 3
   },
   "file_extension": ".py",
   "mimetype": "text/x-python",
   "name": "python",
   "nbconvert_exporter": "python",
   "pygments_lexer": "ipython3",
   "version": "3.8.8"
  },
  "orig_nbformat": 4
 },
 "nbformat": 4,
 "nbformat_minor": 2
}
