{
 "cells": [
  {
   "cell_type": "code",
   "execution_count": 1,
   "metadata": {},
   "outputs": [],
   "source": [
    "import pandas as Pand\n",
    "import matplotlib.pyplot as Mplt\n",
    "import numpy as Np\n",
    "import seaborn as Sns\n",
    "from sklearn.pipeline import Pipeline\n",
    "from sklearn.preprocessing import StandardScaler,PolynomialFeatures"
   ]
  },
  {
   "cell_type": "code",
   "execution_count": 2,
   "metadata": {},
   "outputs": [],
   "source": [
    "file_name='https://s3-api.us-geo.objectstorage.softlayer.net/cf-courses-data/CognitiveClass/DA0101EN/coursera/project/kc_house_data_NaN.csv'\n",
    "df=Pand.read_csv(file_name)"
   ]
  },
  {
   "cell_type": "code",
   "execution_count": 3,
   "metadata": {},
   "outputs": [
    {
     "data": {
      "text/plain": [
       "<matplotlib.axes._subplots.AxesSubplot at 0x5a0d274c8>"
      ]
     },
     "execution_count": 3,
     "metadata": {},
     "output_type": "execute_result"
    },
    {
     "data": {
      "image/png": "[encoded data removed]",
      "text/plain": [
       "<Figure size 432x288 with 1 Axes>"
      ]
     },
     "metadata": {
      "needs_background": "light"
     },
     "output_type": "display_data"
    }
   ],
   "source": [
    "Sns.regplot(x='sqft_above', y='price', data=df)"
   ]
  },
  {
   "cell_type": "code",
   "execution_count": 6,
   "metadata": {},
   "outputs": [
    {
     "name": "stdout",
     "output_type": "stream",
     "text": [
      "0        221900.0\n",
      "1        538000.0\n",
      "2        180000.0\n",
      "3        604000.0\n",
      "4        510000.0\n",
      "           ...   \n",
      "21608    360000.0\n",
      "21609    400000.0\n",
      "21610    402101.0\n",
      "21611    400000.0\n",
      "21612    325000.0\n",
      "Name: price, Length: 21613, dtype: float64\n"
     ]
    }
   ],
   "source": [
    "print(df.price)"
   ]
  },
  {
   "cell_type": "code",
   "execution_count": 8,
   "metadata": {},
   "outputs": [
    {
     "name": "stdout",
     "output_type": "stream",
     "text": [
      "       Unnamed: 0          id             date     price  bedrooms  bathrooms  \\\n",
      "0               0  7129300520  20141013T000000  221900.0       3.0       1.00   \n",
      "1               1  6414100192  20141209T000000  538000.0       3.0       2.25   \n",
      "2               2  5631500400  20150225T000000  180000.0       2.0       1.00   \n",
      "3               3  2487200875  20141209T000000  604000.0       4.0       3.00   \n",
      "4               4  1954400510  20150218T000000  510000.0       3.0       2.00   \n",
      "...           ...         ...              ...       ...       ...        ...   \n",
      "21608       21608   263000018  20140521T000000  360000.0       3.0       2.50   \n",
      "21609       21609  6600060120  20150223T000000  400000.0       4.0       2.50   \n",
      "21610       21610  1523300141  20140623T000000  402101.0       2.0       0.75   \n",
      "21611       21611   291310100  20150116T000000  400000.0       3.0       2.50   \n",
      "21612       21612  1523300157  20141015T000000  325000.0       2.0       0.75   \n",
      "\n",
      "       sqft_living  sqft_lot  floors  waterfront  ...  grade  sqft_above  \\\n",
      "0             1180      5650     1.0           0  ...      7        1180   \n",
      "1             2570      7242     2.0           0  ...      7        2170   \n",
      "2              770     10000     1.0           0  ...      6         770   \n",
      "3             1960      5000     1.0           0  ...      7        1050   \n",
      "4             1680      8080     1.0           0  ...      8        1680   \n",
      "...            ...       ...     ...         ...  ...    ...         ...   \n",
      "21608         1530      1131     3.0           0  ...      8        1530   \n",
      "21609         2310      5813     2.0           0  ...      8        2310   \n",
      "21610         1020      1350     2.0           0  ...      7        1020   \n",
      "21611         1600      2388     2.0           0  ...      8        1600   \n",
      "21612         1020      1076     2.0           0  ...      7        1020   \n",
      "\n",
      "       sqft_basement  yr_built  yr_renovated  zipcode      lat     long  \\\n",
      "0                  0      1955             0    98178  47.5112 -122.257   \n",
      "1                400      1951          1991    98125  47.7210 -122.319   \n",
      "2                  0      1933             0    98028  47.7379 -122.233   \n",
      "3                910      1965             0    98136  47.5208 -122.393   \n",
      "4                  0      1987             0    98074  47.6168 -122.045   \n",
      "...              ...       ...           ...      ...      ...      ...   \n",
      "21608              0      2009             0    98103  47.6993 -122.346   \n",
      "21609              0      2014             0    98146  47.5107 -122.362   \n",
      "21610              0      2009             0    98144  47.5944 -122.299   \n",
      "21611              0      2004             0    98027  47.5345 -122.069   \n",
      "21612              0      2008             0    98144  47.5941 -122.299   \n",
      "\n",
      "       sqft_living15  sqft_lot15  \n",
      "0               1340        5650  \n",
      "1               1690        7639  \n",
      "2               2720        8062  \n",
      "3               1360        5000  \n",
      "4               1800        7503  \n",
      "...              ...         ...  \n",
      "21608           1530        1509  \n",
      "21609           1830        7200  \n",
      "21610           1020        2007  \n",
      "21611           1410        1287  \n",
      "21612           1020        1357  \n",
      "\n",
      "[21613 rows x 22 columns]\n"
     ]
    }
   ],
   "source": [
    "print(df)"
   ]
  },
  {
   "cell_type": "code",
   "execution_count": null,
   "metadata": {},
   "outputs": [],
   "source": []
  }
 ],
 "metadata": {
  "kernelspec": {
   "display_name": "Python 3",
   "language": "python",
   "name": "python3"
  },
  "language_info": {
   "codemirror_mode": {
    "name": "ipython",
    "version": 3
   },
   "file_extension": ".py",
   "mimetype": "text/x-python",
   "name": "python",
   "nbconvert_exporter": "python",
   "pygments_lexer": "ipython3",
   "version": "3.7.4"
  }
 },
 "nbformat": 4,
 "nbformat_minor": 4
}
